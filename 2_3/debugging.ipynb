{
 "cells": [
  {
   "cell_type": "code",
   "execution_count": 2,
   "metadata": {},
   "outputs": [],
   "source": [
    "from utils.build_env import *\n",
    "from environment.click_functions import click_functions as cf"
   ]
  },
  {
   "cell_type": "code",
   "execution_count": 3,
   "metadata": {},
   "outputs": [],
   "source": [
    "env = Environment(0)"
   ]
  },
  {
   "cell_type": "code",
   "execution_count": 4,
   "metadata": {},
   "outputs": [
    {
     "data": {
      "text/plain": [
       "{'Young-Familiar': {'Morning': <function utils.build_env.Environment.create_functions.<locals>.<lambda>(x)>,\n",
       "  'Evening': <function utils.build_env.Environment.create_functions.<locals>.<lambda>(x)>,\n",
       "  'Weekend': <function utils.build_env.Environment.create_functions.<locals>.<lambda>(x)>},\n",
       " 'Adult-Familiar': {'Morning': <function utils.build_env.Environment.create_functions.<locals>.<lambda>(x)>,\n",
       "  'Evening': <function utils.build_env.Environment.create_functions.<locals>.<lambda>(x)>,\n",
       "  'Weekend': <function utils.build_env.Environment.create_functions.<locals>.<lambda>(x)>},\n",
       " 'Young-NotFamiliar': {'Morning': <function utils.build_env.Environment.create_functions.<locals>.<lambda>(x)>,\n",
       "  'Evening': <function utils.build_env.Environment.create_functions.<locals>.<lambda>(x)>,\n",
       "  'Weekend': <function utils.build_env.Environment.create_functions.<locals>.<lambda>(x)>}}"
      ]
     },
     "execution_count": 4,
     "metadata": {},
     "output_type": "execute_result"
    }
   ],
   "source": [
    "env.click_functions"
   ]
  },
  {
   "cell_type": "code",
   "execution_count": 9,
   "metadata": {},
   "outputs": [
    {
     "data": {
      "text/plain": [
       "86.46647167633873"
      ]
     },
     "execution_count": 9,
     "metadata": {},
     "output_type": "execute_result"
    }
   ],
   "source": [
    "env.click_functions[\"Young-NotFamiliar\"][\"Morning\"](2)"
   ]
  },
  {
   "cell_type": "code",
   "execution_count": 6,
   "metadata": {},
   "outputs": [
    {
     "data": {
      "text/plain": [
       "60.52653017343711"
      ]
     },
     "execution_count": 6,
     "metadata": {},
     "output_type": "execute_result"
    }
   ],
   "source": [
    "cf[\"Young-NotFamiliar\"][\"Morning\"](2)"
   ]
  },
  {
   "cell_type": "code",
   "execution_count": 20,
   "metadata": {},
   "outputs": [
    {
     "name": "stdout",
     "output_type": "stream",
     "text": [
      "86.46647167633873\n",
      "129.6997075145081\n",
      "259.3994150290162\n",
      "8.646647167633873\n",
      "86.46647167633873\n",
      "129.6997075145081\n",
      "60.52653017343711\n",
      "43.233235838169364\n",
      "86.46647167633873\n"
     ]
    }
   ],
   "source": [
    "functions = {}\n",
    "for f in env.feature_labels:\n",
    "    functions[f] = {}\n",
    "            \n",
    "    for i,p in enumerate(env.phase_labels):\n",
    "        speed = env.subcampaigns[f][i][\"speed\"]\n",
    "        max_value = env.subcampaigns[f][i][\"max_value\"]\n",
    "        a = lambda x: (1 - np.exp(-(speed)*x)) * max_value\n",
    "        functions[f][p] = a\n",
    "        print(functions[f][p](2))\n"
   ]
  }
 ],
 "metadata": {
  "kernelspec": {
   "display_name": "Python 3.6.10 64-bit ('base': conda)",
   "language": "python",
   "name": "python361064bitbasecondadc5003e1d5bc4480bea53326a402cb13"
  },
  "language_info": {
   "codemirror_mode": {
    "name": "ipython",
    "version": 3
   },
   "file_extension": ".py",
   "mimetype": "text/x-python",
   "name": "python",
   "nbconvert_exporter": "python",
   "pygments_lexer": "ipython3",
   "version": "3.6.10"
  }
 },
 "nbformat": 4,
 "nbformat_minor": 4
}
