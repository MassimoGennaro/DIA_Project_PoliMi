{
 "cells": [
  {
   "cell_type": "code",
   "execution_count": 1,
   "metadata": {},
   "outputs": [],
   "source": [
    "from experiment_2 import *\n",
    "from experiment_3 import *\n",
    "from experiment4_5 import *\n",
    "from experiment_6 import *\n",
    "from experiment_7 import *"
   ]
  },
  {
   "cell_type": "code",
   "execution_count": 15,
   "metadata": {
    "pycharm": {
     "name": "#%%\n"
    }
   },
   "outputs": [],
   "source": [
    "## config \n",
    "max_budget = 10\n",
    "n_arms = 11\n",
    "n_experiments= 10\n",
    "advertising_env_id = 0\n",
    "\n",
    "sample_factor = 8\n",
    "horizon= 14 * sample_factor"
   ]
  },
  {
   "cell_type": "markdown",
   "metadata": {},
   "source": [
    "## 2. Stationary Experiment"
   ]
  },
  {
   "cell_type": "code",
   "execution_count": null,
   "metadata": {
    "pycharm": {
     "name": "#%%\n"
    },
    "tags": [
     "outputPrepend",
     "outputPrepend",
     "outputPrepend",
     "outputPrepend",
     "outputPrepend",
     "outputPrepend",
     "outputPrepend",
     "outputPrepend",
     "outputPrepend",
     "outputPrepend",
     "outputPrepend",
     "outputPrepend",
     "outputPrepend",
     "outputPrepend",
     "outputPrepend",
     "outputPrepend",
     "outputPrepend",
     "outputPrepend",
     "outputPrepend",
     "outputPrepend",
     "outputPrepend",
     "outputPrepend",
     "outputPrepend",
     "outputPrepend",
     "outputPrepend",
     "outputPrepend",
     "outputPrepend",
     "outputPrepend"
    ]
   },
   "outputs": [],
   "source": [
    "exp1 = Experiment_2(max_budget, n_arms, advertising_env_id)\n",
    "exp1.run_clairvoyant()\n",
    "exp1.run(n_experiments, horizon)"
   ]
  },
  {
   "cell_type": "code",
   "execution_count": null,
   "metadata": {
    "collapsed": false,
    "jupyter": {
     "outputs_hidden": false
    },
    "pycharm": {
     "name": "#%%\n"
    }
   },
   "outputs": [],
   "source": [
    "exp1.plot_regret()"
   ]
  },
  {
   "cell_type": "code",
   "execution_count": null,
   "metadata": {},
   "outputs": [],
   "source": [
    "exp1.plot_experiment()"
   ]
  },
  {
   "cell_type": "markdown",
   "metadata": {},
   "source": [
    "## 3.Non-Stationary Experiment"
   ]
  },
  {
   "cell_type": "markdown",
   "metadata": {},
   "source": [
    "### Estimating kernel hyperparameters using aggregate phases"
   ]
  },
  {
   "cell_type": "code",
   "execution_count": null,
   "metadata": {},
   "outputs": [],
   "source": [
    "exp3 = Experiment_3(max_budget, n_arms, sample_factor, advertising_env_id, estimate_hyperparam= True)\n",
    "exp3.run(n_experiments, horizon)"
   ]
  },
  {
   "cell_type": "code",
   "execution_count": null,
   "metadata": {},
   "outputs": [],
   "source": [
    "exp3.plot_regret()"
   ]
  },
  {
   "cell_type": "code",
   "execution_count": null,
   "metadata": {},
   "outputs": [],
   "source": [
    "exp3.plot_experiment()"
   ]
  },
  {
   "cell_type": "markdown",
   "metadata": {},
   "source": [
    "## 4. Pricing, no Context Generation"
   ]
  },
  {
   "cell_type": "code",
   "execution_count": 2,
   "metadata": {},
   "outputs": [],
   "source": [
    "#arms_candidates = [5, 10, 15, 20, 25]\n",
    "n_experiments = 10\n",
    "horizon = 1000 ## how many people are used to perform each experiment\n",
    "pricing_env_id = 0"
   ]
  },
  {
   "cell_type": "code",
   "execution_count": 3,
   "metadata": {},
   "outputs": [
    {
     "name": "stdout",
     "output_type": "stream",
     "text": [
      "Perforiming experiment: 1\n",
      "Perforiming experiment: 2\n",
      "Perforiming experiment: 3\n",
      "Perforiming experiment: 4\n",
      "Perforiming experiment: 5\n",
      "Perforiming experiment: 6\n",
      "Perforiming experiment: 7\n",
      "Perforiming experiment: 8\n",
      "Perforiming experiment: 9\n",
      "Perforiming experiment: 10\n"
     ]
    }
   ],
   "source": [
    "exp4 = Experiment_4_5(pricing_env_id)\n",
    "exp4.run_experiment(n_experiments, horizon) # no week paseed -> No context generation"
   ]
  },
  {
   "cell_type": "code",
   "execution_count": 4,
   "metadata": {},
   "outputs": [
    {
     "data": {
      "image/png": "[encoded data removed]",
      "text/plain": [
       "<Figure size 432x288 with 1 Axes>"
      ]
     },
     "metadata": {
      "needs_background": "light"
     },
     "output_type": "display_data"
    }
   ],
   "source": [
    "exp4.plot_regret_nocontext()"
   ]
  },
  {
   "cell_type": "code",
   "execution_count": 5,
   "metadata": {},
   "outputs": [
    {
     "data": {
      "image/png": "[encoded data removed]",
      "text/plain": [
       "<Figure size 432x288 with 1 Axes>"
      ]
     },
     "metadata": {
      "needs_background": "light"
     },
     "output_type": "display_data"
    },
    {
     "name": "stdout",
     "output_type": "stream",
     "text": [
      "219.5 48\n",
      "230.0 50\n",
      "288.5 60\n",
      "355.5 70\n",
      "6968.5\n"
     ]
    }
   ],
   "source": [
    "exp4.plot_reward()"
   ]
  },
  {
   "cell_type": "markdown",
   "metadata": {},
   "source": [
    "## 5. Pricing with Context Generation"
   ]
  },
  {
   "cell_type": "code",
   "execution_count": 6,
   "metadata": {},
   "outputs": [
    {
     "name": "stdout",
     "output_type": "stream",
     "text": [
      "Perforiming experiment: 1\n",
      "0 [('y', 'f'), ('y', 'u')]\n",
      "1 [('a', 'f'), ('a', 'u')]\n",
      "\n",
      "\n",
      "0 [('y', 'f')]\n",
      "1 [('a', 'f'), ('a', 'u')]\n",
      "2 [('y', 'u')]\n",
      "\n",
      "\n",
      "0 [('y', 'f')]\n",
      "1 [('a', 'f'), ('a', 'u')]\n",
      "2 [('y', 'u')]\n",
      "\n",
      "\n",
      "0 [('y', 'f')]\n",
      "1 [('a', 'f'), ('a', 'u')]\n",
      "2 [('y', 'u')]\n",
      "\n",
      "\n",
      "0 [('y', 'f')]\n",
      "1 [('a', 'f'), ('a', 'u')]\n",
      "2 [('y', 'u')]\n",
      "\n",
      "\n",
      "0 [('y', 'f')]\n",
      "1 [('a', 'f'), ('a', 'u')]\n",
      "2 [('y', 'u')]\n",
      "\n",
      "\n",
      "Perforiming experiment: 2\n",
      "0 [('y', 'f'), ('y', 'u')]\n",
      "1 [('a', 'f'), ('a', 'u')]\n",
      "\n",
      "\n",
      "0 [('y', 'f')]\n",
      "1 [('a', 'f'), ('a', 'u')]\n",
      "2 [('y', 'u')]\n",
      "\n",
      "\n",
      "0 [('y', 'f')]\n",
      "1 [('a', 'f'), ('a', 'u')]\n",
      "2 [('y', 'u')]\n",
      "\n",
      "\n",
      "0 [('y', 'f')]\n",
      "1 [('a', 'f'), ('a', 'u')]\n",
      "2 [('y', 'u')]\n",
      "\n",
      "\n",
      "0 [('y', 'f')]\n",
      "1 [('a', 'f'), ('a', 'u')]\n",
      "2 [('y', 'u')]\n",
      "\n",
      "\n",
      "0 [('y', 'f')]\n",
      "1 [('a', 'f'), ('a', 'u')]\n",
      "2 [('y', 'u')]\n",
      "\n",
      "\n",
      "Perforiming experiment: 3\n",
      "0 [('y', 'f'), ('y', 'u')]\n",
      "1 [('a', 'f'), ('a', 'u')]\n",
      "\n",
      "\n",
      "0 [('y', 'f')]\n",
      "1 [('a', 'f'), ('a', 'u')]\n",
      "2 [('y', 'u')]\n",
      "\n",
      "\n",
      "0 [('y', 'f')]\n",
      "1 [('a', 'f'), ('a', 'u')]\n",
      "2 [('y', 'u')]\n",
      "\n",
      "\n",
      "0 [('y', 'f')]\n",
      "1 [('a', 'f'), ('a', 'u')]\n",
      "2 [('y', 'u')]\n",
      "\n",
      "\n",
      "0 [('y', 'f')]\n",
      "1 [('a', 'f'), ('a', 'u')]\n",
      "2 [('y', 'u')]\n",
      "\n",
      "\n",
      "0 [('y', 'f')]\n",
      "1 [('a', 'f'), ('a', 'u')]\n",
      "2 [('y', 'u')]\n",
      "\n",
      "\n",
      "Perforiming experiment: 4\n",
      "0 [('y', 'f'), ('y', 'u')]\n",
      "1 [('a', 'f'), ('a', 'u')]\n",
      "\n",
      "\n",
      "0 [('y', 'f')]\n",
      "1 [('a', 'f'), ('a', 'u')]\n",
      "2 [('y', 'u')]\n",
      "\n",
      "\n",
      "0 [('y', 'f')]\n",
      "1 [('a', 'f'), ('a', 'u')]\n",
      "2 [('y', 'u')]\n",
      "\n",
      "\n",
      "0 [('y', 'f')]\n",
      "1 [('a', 'f'), ('a', 'u')]\n",
      "2 [('y', 'u')]\n",
      "\n",
      "\n",
      "0 [('y', 'f')]\n",
      "1 [('a', 'f'), ('a', 'u')]\n",
      "2 [('y', 'u')]\n",
      "\n",
      "\n",
      "0 [('y', 'f')]\n",
      "1 [('a', 'f'), ('a', 'u')]\n",
      "2 [('y', 'u')]\n",
      "\n",
      "\n",
      "Perforiming experiment: 5\n",
      "0 [('y', 'f'), ('y', 'u')]\n",
      "1 [('a', 'f'), ('a', 'u')]\n",
      "\n",
      "\n",
      "0 [('y', 'f')]\n",
      "1 [('a', 'f'), ('a', 'u')]\n",
      "2 [('y', 'u')]\n",
      "\n",
      "\n",
      "0 [('y', 'f')]\n",
      "1 [('a', 'f'), ('a', 'u')]\n",
      "2 [('y', 'u')]\n",
      "\n",
      "\n",
      "0 [('y', 'f')]\n",
      "1 [('a', 'f'), ('a', 'u')]\n",
      "2 [('y', 'u')]\n",
      "\n",
      "\n",
      "0 [('y', 'f')]\n",
      "1 [('a', 'f'), ('a', 'u')]\n",
      "2 [('y', 'u')]\n",
      "\n",
      "\n",
      "0 [('y', 'f')]\n",
      "1 [('a', 'f'), ('a', 'u')]\n",
      "2 [('y', 'u')]\n",
      "\n",
      "\n",
      "Perforiming experiment: 6\n",
      "0 [('y', 'f'), ('y', 'u')]\n",
      "1 [('a', 'f'), ('a', 'u')]\n",
      "\n",
      "\n",
      "0 [('y', 'f')]\n",
      "1 [('a', 'f'), ('a', 'u')]\n",
      "2 [('y', 'u')]\n",
      "\n",
      "\n",
      "0 [('y', 'f')]\n",
      "1 [('a', 'f'), ('a', 'u')]\n",
      "2 [('y', 'u')]\n",
      "\n",
      "\n",
      "0 [('y', 'f')]\n",
      "1 [('a', 'f'), ('a', 'u')]\n",
      "2 [('y', 'u')]\n",
      "\n",
      "\n",
      "0 [('y', 'f')]\n",
      "1 [('a', 'f'), ('a', 'u')]\n",
      "2 [('y', 'u')]\n",
      "\n",
      "\n",
      "0 [('y', 'f')]\n",
      "1 [('a', 'f'), ('a', 'u')]\n",
      "2 [('y', 'u')]\n",
      "\n",
      "\n",
      "Perforiming experiment: 7\n",
      "0 [('y', 'f'), ('a', 'f')]\n",
      "1 [('y', 'u'), ('a', 'u')]\n",
      "\n",
      "\n",
      "0 [('y', 'f'), ('a', 'f')]\n",
      "1 [('y', 'u'), ('a', 'u')]\n",
      "\n",
      "\n",
      "0 [('y', 'f'), ('a', 'f')]\n",
      "1 [('y', 'u'), ('a', 'u')]\n",
      "\n",
      "\n",
      "0 [('y', 'f'), ('a', 'f')]\n",
      "1 [('y', 'u'), ('a', 'u')]\n",
      "\n",
      "\n",
      "0 [('y', 'f'), ('a', 'f')]\n",
      "1 [('y', 'u'), ('a', 'u')]\n",
      "\n",
      "\n",
      "0 [('y', 'f'), ('a', 'f')]\n",
      "1 [('y', 'u'), ('a', 'u')]\n",
      "\n",
      "\n",
      "Perforiming experiment: 8\n",
      "0 [('y', 'f'), ('y', 'u')]\n",
      "1 [('a', 'f'), ('a', 'u')]\n",
      "\n",
      "\n",
      "0 [('y', 'f')]\n",
      "1 [('a', 'f'), ('a', 'u')]\n",
      "2 [('y', 'u')]\n",
      "\n",
      "\n",
      "0 [('y', 'f')]\n",
      "1 [('a', 'f'), ('a', 'u')]\n",
      "2 [('y', 'u')]\n",
      "\n",
      "\n",
      "0 [('y', 'f')]\n",
      "1 [('a', 'f'), ('a', 'u')]\n",
      "2 [('y', 'u')]\n",
      "\n",
      "\n",
      "0 [('y', 'f')]\n",
      "1 [('a', 'f'), ('a', 'u')]\n",
      "2 [('y', 'u')]\n",
      "\n",
      "\n",
      "0 [('y', 'f')]\n",
      "1 [('a', 'f'), ('a', 'u')]\n",
      "2 [('y', 'u')]\n",
      "\n",
      "\n",
      "Perforiming experiment: 9\n",
      "0 [('y', 'f'), ('y', 'u')]\n",
      "1 [('a', 'f'), ('a', 'u')]\n",
      "\n",
      "\n",
      "0 [('y', 'f')]\n",
      "1 [('a', 'f'), ('a', 'u')]\n",
      "2 [('y', 'u')]\n",
      "\n",
      "\n",
      "0 [('y', 'f')]\n",
      "1 [('a', 'f'), ('a', 'u')]\n",
      "2 [('y', 'u')]\n",
      "\n",
      "\n",
      "0 [('y', 'f')]\n",
      "1 [('a', 'f'), ('a', 'u')]\n",
      "2 [('y', 'u')]\n",
      "\n",
      "\n",
      "0 [('y', 'f')]\n",
      "1 [('a', 'f'), ('a', 'u')]\n",
      "2 [('y', 'u')]\n",
      "\n",
      "\n",
      "0 [('y', 'f')]\n",
      "1 [('a', 'f'), ('a', 'u')]\n",
      "2 [('y', 'u')]\n",
      "\n",
      "\n",
      "Perforiming experiment: 10\n",
      "0 [('y', 'f'), ('y', 'u')]\n",
      "1 [('a', 'f'), ('a', 'u')]\n",
      "\n",
      "\n",
      "0 [('y', 'f')]\n",
      "1 [('a', 'f'), ('a', 'u')]\n",
      "2 [('y', 'u')]\n",
      "\n",
      "\n",
      "0 [('y', 'f')]\n",
      "1 [('a', 'f'), ('a', 'u')]\n",
      "2 [('y', 'u')]\n",
      "\n",
      "\n",
      "0 [('y', 'f')]\n",
      "1 [('a', 'f'), ('a', 'u')]\n",
      "2 [('y', 'u')]\n",
      "\n",
      "\n",
      "0 [('y', 'f')]\n",
      "1 [('a', 'f'), ('a', 'u')]\n",
      "2 [('y', 'u')]\n",
      "\n",
      "\n",
      "0 [('y', 'f')]\n",
      "1 [('a', 'f'), ('a', 'u')]\n",
      "2 [('y', 'u')]\n",
      "\n",
      "\n"
     ]
    }
   ],
   "source": [
    "exp5 = Experiment_4_5(pricing_env_id)\n",
    "exp5.run_experiment(n_experiments, horizon, week = 150) ## week says how many people arrives each week, at the end end of a week there is a context split"
   ]
  },
  {
   "cell_type": "code",
   "execution_count": 7,
   "metadata": {},
   "outputs": [
    {
     "data": {
      "image/png": "[encoded data removed]",
      "text/plain": [
       "<Figure size 432x288 with 1 Axes>"
      ]
     },
     "metadata": {
      "needs_background": "light"
     },
     "output_type": "display_data"
    }
   ],
   "source": [
    "exp5.plot_regret_context()"
   ]
  },
  {
   "cell_type": "code",
   "execution_count": 8,
   "metadata": {},
   "outputs": [
    {
     "data": {
      "image/png": "[encoded data removed]",
      "text/plain": [
       "<Figure size 432x288 with 1 Axes>"
      ]
     },
     "metadata": {
      "needs_background": "light"
     },
     "output_type": "display_data"
    },
    {
     "name": "stdout",
     "output_type": "stream",
     "text": [
      "237.5 48\n",
      "249.5 50\n",
      "315.5 60\n",
      "384.0 70\n",
      "7587.5\n"
     ]
    }
   ],
   "source": [
    "exp5.plot_reward()"
   ]
  },
  {
   "cell_type": "markdown",
   "metadata": {},
   "source": [
    "## 6. Combinig Pricing and Advertising"
   ]
  },
  {
   "cell_type": "code",
   "execution_count": 23,
   "metadata": {},
   "outputs": [],
   "source": [
    "n_experiments = 10\n",
    "sample_factor = 8\n",
    "horizon= 14 * sample_factor\n",
    "advertising_env_id = 0\n",
    "pricing_env_id = 0"
   ]
  },
  {
   "cell_type": "code",
   "execution_count": 24,
   "metadata": {},
   "outputs": [
    {
     "name": "stdout",
     "output_type": "stream",
     "text": [
      "Performing experiment:  1\n",
      "Performing experiment:  2\n",
      "Performing experiment:  3\n",
      "Performing experiment:  4\n",
      "Performing experiment:  5\n",
      "Performing experiment:  6\n",
      "Performing experiment:  7\n",
      "Performing experiment:  8\n",
      "Performing experiment:  9\n",
      "Performing experiment:  10\n"
     ]
    }
   ],
   "source": [
    "exp6 = Experiment_6(max_budget, n_arms, pricing_env_id, advertising_env_id)\n",
    "exp6.run(n_experiments, horizon)"
   ]
  },
  {
   "cell_type": "code",
   "execution_count": 25,
   "metadata": {},
   "outputs": [
    {
     "data": {
      "image/png": "[encoded data removed]",
      "text/plain": [
       "<Figure size 432x288 with 1 Axes>"
      ]
     },
     "metadata": {
      "needs_background": "light"
     },
     "output_type": "display_data"
    }
   ],
   "source": [
    "exp6.plot_regret()"
   ]
  },
  {
   "cell_type": "code",
   "execution_count": 26,
   "metadata": {},
   "outputs": [
    {
     "data": {
      "image/png": "[encoded data removed]",
      "text/plain": [
       "<Figure size 432x288 with 1 Axes>"
      ]
     },
     "metadata": {
      "needs_background": "light"
     },
     "output_type": "display_data"
    }
   ],
   "source": [
    "exp6.plot_experiment()"
   ]
  },
  {
   "cell_type": "markdown",
   "metadata": {},
   "source": [
    "## 7. Charges a unique price to all the classes of users"
   ]
  },
  {
   "cell_type": "code",
   "execution_count": 27,
   "metadata": {
    "tags": [
     "outputPrepend",
     "outputPrepend",
     "outputPrepend",
     "outputPrepend",
     "outputPrepend",
     "outputPrepend",
     "outputPrepend",
     "outputPrepend",
     "outputPrepend",
     "outputPrepend",
     "outputPrepend",
     "outputPrepend",
     "outputPrepend",
     "outputPrepend",
     "outputPrepend",
     "outputPrepend"
    ]
   },
   "outputs": [
    {
     "name": "stdout",
     "output_type": "stream",
     "text": [
      "Performing experiment:  1\n",
      "Performing experiment:  2\n",
      "Performing experiment:  3\n",
      "Performing experiment:  4\n",
      "Performing experiment:  5\n",
      "Performing experiment:  6\n",
      "Performing experiment:  7\n",
      "Performing experiment:  8\n",
      "Performing experiment:  9\n",
      "Performing experiment:  10\n"
     ]
    }
   ],
   "source": [
    "exp7 = Experiment_7(max_budget, n_arms, pricing_env_id, advertising_env_id)\n",
    "exp7.run(n_experiments, horizon)"
   ]
  },
  {
   "cell_type": "code",
   "execution_count": 28,
   "metadata": {},
   "outputs": [
    {
     "data": {
      "image/png": "[encoded data removed]",
      "text/plain": [
       "<Figure size 432x288 with 1 Axes>"
      ]
     },
     "metadata": {
      "needs_background": "light"
     },
     "output_type": "display_data"
    }
   ],
   "source": [
    "exp7.plot_experiment()"
   ]
  },
  {
   "cell_type": "code",
   "execution_count": 29,
   "metadata": {},
   "outputs": [
    {
     "data": {
      "image/png": "[encoded data removed]",
      "text/plain": [
       "<Figure size 432x288 with 1 Axes>"
      ]
     },
     "metadata": {
      "needs_background": "light"
     },
     "output_type": "display_data"
    }
   ],
   "source": [
    "exp7.plot_regret()"
   ]
  },
  {
   "cell_type": "code",
   "execution_count": null,
   "metadata": {},
   "outputs": [],
   "source": [
    "#TODO change values probabilities in both experiment 6 and 7 to see changes"
   ]
  }
 ],
 "metadata": {
  "kernelspec": {
   "display_name": "Python 3",
   "language": "python",
   "name": "python3"
  },
  "language_info": {
   "codemirror_mode": {
    "name": "ipython",
    "version": 3
   },
   "file_extension": ".py",
   "mimetype": "text/x-python",
   "name": "python",
   "nbconvert_exporter": "python",
   "pygments_lexer": "ipython3",
   "version": "3.6.10"
  }
 },
 "nbformat": 4,
 "nbformat_minor": 4
}
